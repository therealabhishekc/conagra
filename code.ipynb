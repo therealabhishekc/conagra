{
 "cells": [
  {
   "cell_type": "code",
   "execution_count": 5,
   "id": "c86ab9af-bcb9-43ef-983c-62fea512443b",
   "metadata": {
    "execution": {
     "iopub.execute_input": "2023-03-19T22:39:06.529270Z",
     "iopub.status.busy": "2023-03-19T22:39:06.529270Z",
     "iopub.status.idle": "2023-03-19T22:39:08.528653Z",
     "shell.execute_reply": "2023-03-19T22:39:08.528653Z",
     "shell.execute_reply.started": "2023-03-19T22:39:06.529270Z"
    }
   },
   "outputs": [],
   "source": [
    "import numpy as np\n",
    "import pandas as pd\n",
    "import matplotlib.pyplot as plt\n",
    "import seaborn as sns\n",
    "\n",
    "%matplotlib inline\n",
    "\n",
    "%config Completer.use_jedi = True"
   ]
  },
  {
   "cell_type": "code",
   "execution_count": 6,
   "id": "93bf4602",
   "metadata": {},
   "outputs": [
    {
     "name": "stdout",
     "output_type": "stream",
     "text": [
      "Collecting openpyxl\n",
      "  Downloading openpyxl-3.1.2-py2.py3-none-any.whl (249 kB)\n",
      "     ---------------------------------------- 0.0/250.0 kB ? eta -:--:--\n",
      "     - -------------------------------------- 10.2/250.0 kB ? eta -:--:--\n",
      "     ---- -------------------------------- 30.7/250.0 kB 435.7 kB/s eta 0:00:01\n",
      "     ------------------ ------------------- 122.9/250.0 kB 1.0 MB/s eta 0:00:01\n",
      "     -------------------------------------- 250.0/250.0 kB 1.7 MB/s eta 0:00:00\n",
      "Collecting et-xmlfile\n",
      "  Using cached et_xmlfile-1.1.0-py3-none-any.whl (4.7 kB)\n",
      "Installing collected packages: et-xmlfile, openpyxl\n",
      "Successfully installed et-xmlfile-1.1.0 openpyxl-3.1.2\n"
     ]
    }
   ],
   "source": [
    "!pip install openpyxl"
   ]
  },
  {
   "cell_type": "code",
   "execution_count": 14,
   "id": "09f9b544-72d5-4da7-b1e5-06eb8c49581d",
   "metadata": {},
   "outputs": [],
   "source": [
    "# reading the test datat\n",
    "test = pd.read_excel('test.xlsx')"
   ]
  },
  {
   "cell_type": "code",
   "execution_count": 15,
   "id": "68b85461",
   "metadata": {},
   "outputs": [],
   "source": [
    "# reading the entire dataset\n",
    "data = pd.read_excel('IRI_POS_Tablespreads_2018.xlsx')"
   ]
  },
  {
   "cell_type": "code",
   "execution_count": 12,
   "id": "17cf052c",
   "metadata": {},
   "outputs": [],
   "source": [
    "# getting the unique company names and adding them in the dataset\n",
    "\n",
    "comp_name_ls = []\n",
    "\n",
    "for name in test['Product Description']:\n",
    "    comp_name = ''\n",
    "    for n in name.split():\n",
    "        comp_name += n\n",
    "        if n == 'RFG':\n",
    "            comp_name_ls.append(comp_name)\n",
    "        \n"
   ]
  },
  {
   "cell_type": "code",
   "execution_count": 16,
   "id": "81a3c16a",
   "metadata": {},
   "outputs": [],
   "source": [
    "test['Comp_name'] = comp_name_ls"
   ]
  },
  {
   "cell_type": "code",
   "execution_count": 18,
   "id": "80be9cac",
   "metadata": {},
   "outputs": [
    {
     "data": {
      "text/plain": [
       "176"
      ]
     },
     "execution_count": 18,
     "metadata": {},
     "output_type": "execute_result"
    }
   ],
   "source": [
    "test['Comp_name'].nunique()"
   ]
  },
  {
   "cell_type": "code",
   "execution_count": null,
   "id": "e0a3f352",
   "metadata": {},
   "outputs": [],
   "source": []
  }
 ],
 "metadata": {
  "kernelspec": {
   "display_name": "Python 3 (ipykernel)",
   "language": "python",
   "name": "python3"
  },
  "language_info": {
   "codemirror_mode": {
    "name": "ipython",
    "version": 3
   },
   "file_extension": ".py",
   "mimetype": "text/x-python",
   "name": "python",
   "nbconvert_exporter": "python",
   "pygments_lexer": "ipython3",
   "version": "3.11.0"
  },
  "varInspector": {
   "cols": {
    "lenName": 16,
    "lenType": 16,
    "lenVar": 40
   },
   "kernels_config": {
    "python": {
     "delete_cmd_postfix": "",
     "delete_cmd_prefix": "del ",
     "library": "var_list.py",
     "varRefreshCmd": "print(var_dic_list())"
    },
    "r": {
     "delete_cmd_postfix": ") ",
     "delete_cmd_prefix": "rm(",
     "library": "var_list.r",
     "varRefreshCmd": "cat(var_dic_list()) "
    }
   },
   "types_to_exclude": [
    "module",
    "function",
    "builtin_function_or_method",
    "instance",
    "_Feature"
   ],
   "window_display": false
  }
 },
 "nbformat": 4,
 "nbformat_minor": 5
}
